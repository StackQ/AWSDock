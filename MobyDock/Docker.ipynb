{
 "cells": [
  {
   "cell_type": "markdown",
   "metadata": {},
   "source": [
    "## Dock Dock MobyDock"
   ]
  },
  {
   "cell_type": "markdown",
   "metadata": {},
   "source": [
    "Cleanup: Delete all images on the host  \n",
    "Stop and delete all the containers being used by images.  \n",
    "`docker rmi $(docker images -aq)`  \n",
    "\n",
    "Move to the directory first by using the cd command and verify the path of the working directory from pwd command?  \n",
    "`cd /root/webapp-color/`  \n",
    "`docker build -t web app-color .`  #At the end of the command, we used the \".\" (dot) symbol which indicates for the current directory, so you need to run this command from within the directory that has the Dockerfile.\n",
    "\n",
    "Which operating system is used as base image for python:3.6  \n",
    "`docker run python:3.6 cat /etc/*release*`  \n",
    "\n",
    "Create a docker-compose.yml file under the directory /root/clickcounter. Once done, run docker-compose up.  \n",
    "The compose file should have the exact specification as follows -  \n",
    "\t1\tredis service specification - Image name should be redis:alpine.  \n",
    "\t2\tclickcounter service specification - Image name should be kodekloud/click-counter, app is run on port 5000 and expose it on the host port 8085 in the compose file.  \n",
    "`services:`  \n",
    "..`redis:`  \n",
    "....`image: redis:alpine`  \n",
    "..`clickcounter:`  \n",
    "....`image: kodekloud/click-counter`  \n",
    "....`ports:`  \n",
    "....`- 8085:5000`  \n",
    "`version: '3.0'`\n",
    "\n",
    "`docker-compose up -d`\n",
    "\n",
    "Let practice deploying a registry server on our own.  \n",
    "Run a registry server with name equals to my-registry using registry:2 image with host port set to 5000, and restart policy set to always.  \n",
    "Note: Registry server is exposed on port 5000 in the image.  \n",
    "`docker run -d -p 5000:5000 --restart=always --name my-registry registry:2`\n",
    "\n",
    "Now its time to push some images to our registry server. Let's push two images for now .i.e. nginx:latest and httpd:latest.\n",
    "Note: Don't forget to pull them first.  \n",
    "To check the list of images pushed , use curl -X GET localhost:5000/v2/_catalog    \n",
    "Run:   \n",
    "`docker pull nginx:latest`   \n",
    "`docker image tag nginx:latest localhost:5000/nginx:latest`   \n",
    "and finally push it using     \n",
    "`docker push localhost:5000/nginx:latest`  \n",
    "We will use the same steps for the second image   \n",
    "`docker pull httpd:latest` and then   \n",
    "`docker image tag httpd:latest localhost:5000/httpd:latest`   \n",
    "and finally push it using `docker push localhost:5000/httpd:latest`  \n",
    "\n",
    "To remove images - `docker image prune -a`\n",
    "\n",
    "Now we can pull images from our registry-server as well. Use `docker pull [server-addr/image-name]` to pull the images that we pushed earlier.  \n",
    "In our case we can use: `docker pull localhost:5000/nginx`  \n",
    "\n",
    "\n",
    "Number of networks- `docker network ls`  \n",
    "\n",
    "We just ran a container named alpine-1. Identify the network it is attached to. `docker inspect alpine-1`\n",
    "\n",
    "What is the subnet configured on bridge network?  `docker inspect bridge`  \n",
    "\n",
    "Run a container named alpine-2 using the alpine image and attach it to the none network. `docker run -d --name=alpine-2 --network=none alpine`\n",
    "\n",
    "Create a new network named wp-mysql-network using the bridge driver. Allocate subnet 182.18.0.1/24. Configure Gateway 182.18.0.1   `docker network create --driver=bridge --subnet=182.18.0.1/24 --gateway=182.18.0.1 wp-mysql-network`\n",
    "\n",
    "Deploy a mysql database using the mysql:5.6 image and name it mysql-db. Attach it to the newly created network wp-mysql-network\n",
    "Set the database password to use db_pass123. The environment variable to set is MYSQL_ROOT_PASSWORD.  \n",
    "`docker run -d --name=mysql-db --network=wp-mysql-network -e MYSQL_ROOT_PASSWORD=db_pass123 mysql:5.6`\n",
    "\n",
    "Deploy a web application named webapp using the kodekloud/simple-webapp-mysql image. Expose the port to 38080 on the host.The application makes use of two environment variable:  \n",
    "1: DB_Host with the value mysql-db.  \n",
    "2: DB_Password with the value db_pass123.  \n",
    "Make sure to attach it to the newly created network called wp-mysql-network.  \n",
    "Also make sure to link the MySQL and the webapp container.  \n",
    "`docker run --network=wp-mysql-network -e DB_Host=mysql-db -e DB_Password=db_pass123 -p 38080:8080 --name webapp --link mysql-db:mysql-db -d kodekloud/simple-webapp-mysql`\n",
    "\n"
   ]
  }
 ],
 "metadata": {
  "kernelspec": {
   "display_name": "Python 3",
   "language": "python",
   "name": "python3"
  },
  "language_info": {
   "codemirror_mode": {
    "name": "ipython",
    "version": 3
   },
   "file_extension": ".py",
   "mimetype": "text/x-python",
   "name": "python",
   "nbconvert_exporter": "python",
   "pygments_lexer": "ipython3",
   "version": "3.10.13"
  }
 },
 "nbformat": 4,
 "nbformat_minor": 2
}
